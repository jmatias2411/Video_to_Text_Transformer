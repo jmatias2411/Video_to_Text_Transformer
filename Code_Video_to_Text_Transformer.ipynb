{
  "cells": [
    {
      "cell_type": "code",
      "execution_count": null,
      "metadata": {
        "colab": {
          "base_uri": "https://localhost:8080/"
        },
        "id": "3g4nDzwTqIs5",
        "outputId": "387240ed-801a-4833-f5c9-fe9b54b2b286"
      },
      "outputs": [
        {
          "output_type": "stream",
          "name": "stdout",
          "text": [
            "Requirement already satisfied: moviepy in /usr/local/lib/python3.10/dist-packages (1.0.3)\n",
            "Requirement already satisfied: decorator<5.0,>=4.0.2 in /usr/local/lib/python3.10/dist-packages (from moviepy) (4.4.2)\n",
            "Requirement already satisfied: tqdm<5.0,>=4.11.2 in /usr/local/lib/python3.10/dist-packages (from moviepy) (4.66.5)\n",
            "Requirement already satisfied: requests<3.0,>=2.8.1 in /usr/local/lib/python3.10/dist-packages (from moviepy) (2.32.3)\n",
            "Requirement already satisfied: proglog<=1.0.0 in /usr/local/lib/python3.10/dist-packages (from moviepy) (0.1.10)\n",
            "Requirement already satisfied: numpy>=1.17.3 in /usr/local/lib/python3.10/dist-packages (from moviepy) (1.26.4)\n",
            "Requirement already satisfied: imageio<3.0,>=2.5 in /usr/local/lib/python3.10/dist-packages (from moviepy) (2.35.1)\n",
            "Requirement already satisfied: imageio-ffmpeg>=0.2.0 in /usr/local/lib/python3.10/dist-packages (from moviepy) (0.5.1)\n",
            "Requirement already satisfied: pillow>=8.3.2 in /usr/local/lib/python3.10/dist-packages (from imageio<3.0,>=2.5->moviepy) (10.4.0)\n",
            "Requirement already satisfied: setuptools in /usr/local/lib/python3.10/dist-packages (from imageio-ffmpeg>=0.2.0->moviepy) (71.0.4)\n",
            "Requirement already satisfied: charset-normalizer<4,>=2 in /usr/local/lib/python3.10/dist-packages (from requests<3.0,>=2.8.1->moviepy) (3.3.2)\n",
            "Requirement already satisfied: idna<4,>=2.5 in /usr/local/lib/python3.10/dist-packages (from requests<3.0,>=2.8.1->moviepy) (3.10)\n",
            "Requirement already satisfied: urllib3<3,>=1.21.1 in /usr/local/lib/python3.10/dist-packages (from requests<3.0,>=2.8.1->moviepy) (2.2.3)\n",
            "Requirement already satisfied: certifi>=2017.4.17 in /usr/local/lib/python3.10/dist-packages (from requests<3.0,>=2.8.1->moviepy) (2024.8.30)\n"
          ]
        }
      ],
      "source": [
        "!pip install moviepy"
      ]
    },
    {
      "cell_type": "code",
      "execution_count": null,
      "metadata": {
        "colab": {
          "base_uri": "https://localhost:8080/"
        },
        "id": "9d-XjNp9qKWo",
        "outputId": "d00dc8db-5fe0-4b08-da5c-f5be8f96116d"
      },
      "outputs": [
        {
          "output_type": "stream",
          "name": "stdout",
          "text": [
            "Ingresa la ruta de tu video (por ejemplo, /content/video.mp4): /content/Cómo practicar eficazmente… para casi todo - Annie Bosler y Don Greene - Sé Curioso — TED-Ed (360p, h264, youtube).mp4\n",
            "MoviePy - Writing audio in audio.wav\n"
          ]
        },
        {
          "output_type": "stream",
          "name": "stderr",
          "text": [
            "                                                                      "
          ]
        },
        {
          "output_type": "stream",
          "name": "stdout",
          "text": [
            "MoviePy - Done.\n",
            "El audio se ha guardado correctamente en audio.wav\n"
          ]
        },
        {
          "output_type": "stream",
          "name": "stderr",
          "text": [
            "\r"
          ]
        }
      ],
      "source": [
        "from moviepy.editor import VideoFileClip\n",
        "\n",
        "# Solicitar al usuario la ruta del video\n",
        "mi_video = input(\"Ingresa la ruta de tu video (por ejemplo, /content/video.mp4): \")\n",
        "\n",
        "# Función para convertir video mp4 a audio\n",
        "def convertir_video_a_audio(video_path, output_audio_path):\n",
        "    try:\n",
        "        # Cargamos el video\n",
        "        video = VideoFileClip(video_path)\n",
        "\n",
        "        # Extraemos el audio y lo guardamos como un archivo .mp3 o .wav\n",
        "        video.audio.write_audiofile(output_audio_path)\n",
        "        print(f\"El audio se ha guardado correctamente en {output_audio_path}\")\n",
        "\n",
        "    except Exception as e:\n",
        "        print(f\"Ocurrió un error: {e}\")\n",
        "\n",
        "# Ruta del video MP4 ingresada por el usuario\n",
        "ruta_video = mi_video\n",
        "\n",
        "# Ruta donde se guardará el audio extraído\n",
        "ruta_salida_audio = \"audio.wav\"  # Puedes cambiar la ruta del archivo de salida si lo necesitas\n",
        "\n",
        "# Convertimos el video a audio\n",
        "convertir_video_a_audio(ruta_video, ruta_salida_audio)\n",
        "\n"
      ]
    },
    {
      "cell_type": "code",
      "execution_count": null,
      "metadata": {
        "colab": {
          "base_uri": "https://localhost:8080/"
        },
        "id": "1z1lO2rWrbFB",
        "outputId": "bd7dd1ad-2962-42df-b252-e4e500e23728"
      },
      "outputs": [
        {
          "output_type": "stream",
          "name": "stdout",
          "text": [
            "Collecting SpeechRecognition\n",
            "  Downloading SpeechRecognition-3.10.4-py2.py3-none-any.whl.metadata (28 kB)\n",
            "Collecting pydub\n",
            "  Downloading pydub-0.25.1-py2.py3-none-any.whl.metadata (1.4 kB)\n",
            "Requirement already satisfied: requests>=2.26.0 in /usr/local/lib/python3.10/dist-packages (from SpeechRecognition) (2.32.3)\n",
            "Requirement already satisfied: typing-extensions in /usr/local/lib/python3.10/dist-packages (from SpeechRecognition) (4.12.2)\n",
            "Requirement already satisfied: charset-normalizer<4,>=2 in /usr/local/lib/python3.10/dist-packages (from requests>=2.26.0->SpeechRecognition) (3.3.2)\n",
            "Requirement already satisfied: idna<4,>=2.5 in /usr/local/lib/python3.10/dist-packages (from requests>=2.26.0->SpeechRecognition) (3.10)\n",
            "Requirement already satisfied: urllib3<3,>=1.21.1 in /usr/local/lib/python3.10/dist-packages (from requests>=2.26.0->SpeechRecognition) (2.2.3)\n",
            "Requirement already satisfied: certifi>=2017.4.17 in /usr/local/lib/python3.10/dist-packages (from requests>=2.26.0->SpeechRecognition) (2024.8.30)\n",
            "Downloading SpeechRecognition-3.10.4-py2.py3-none-any.whl (32.8 MB)\n",
            "\u001b[2K   \u001b[90m━━━━━━━━━━━━━━━━━━━━━━━━━━━━━━━━━━━━━━━━\u001b[0m \u001b[32m32.8/32.8 MB\u001b[0m \u001b[31m36.0 MB/s\u001b[0m eta \u001b[36m0:00:00\u001b[0m\n",
            "\u001b[?25hDownloading pydub-0.25.1-py2.py3-none-any.whl (32 kB)\n",
            "Installing collected packages: pydub, SpeechRecognition\n",
            "Successfully installed SpeechRecognition-3.10.4 pydub-0.25.1\n"
          ]
        }
      ],
      "source": [
        "!pip install SpeechRecognition pydub"
      ]
    },
    {
      "cell_type": "code",
      "execution_count": null,
      "metadata": {
        "colab": {
          "base_uri": "https://localhost:8080/"
        },
        "id": "-CdWnXp5rc0w",
        "outputId": "15327fef-f9ea-467a-e0f6-3a47f15b1e75"
      },
      "outputs": [
        {
          "output_type": "stream",
          "name": "stdout",
          "text": [
            "Texto del segmento 0:\n",
            "dominar cualquier habilidad física ya sea realizar una pirueta tocar un instrumento o lanzar una pelota de béisbol requiere práctica la práctica es la repetición de una acción con el objetivo de mejora y ayuda a ejecutar con mayor facilidad rapidez y confianza Qué hace la práctica en nuestro cerebro para hacernos mejores en las cosas nuestro cerebro tiene dos tipos de tejido neural materia gris y materia Blanca la materia gris procesa la información en el cerebro dirige las señales y estímulos sensoriales a las células nerviosas mientras que la materia Blanca se compone sobre todo de fibras nerviosas y tejido graso para que nuestros cuerpos se muevan la información tiene que viajar de la materia Gris del cerebro hacia abajo por la médula a través de una cadena de fibras nerviosas llamadas axones a los músculos cómo afectan la práctica o la\n",
            "Texto del segmento 1:\n",
            "el funcionamiento interno de nuestro cerebro los axones que existen en la sustancia Blanca se envuelven con una sustancia grasa llamada mielina y es está cubierta de mielina o vaina la que parece cambiar con la práctica la mielina es similar al aislamiento de los cables eléctricos evita la pérdida de energía de las señales eléctricas que utiliza el cerebro moviéndolas de manera más eficiente a lo largo de las vías nerviosas estudios recientes en ratones sugieren que la repetición de un movimiento físico aumenta las capas de la vaina de mielina que aísla los axones y ambas capas mayores el aislamiento alrededor de las cadenas de los axones formando una especie de autopista para la información que conecta el cerebro a los músculos mientras que muchos atletas y artistas atribuyen sus éxitos a la memoria muscular los músculos mismos en realidad no tienen memoria más bien puede ser la mielinización de las vías neurales la que da a estos atletas y artistas\n",
            "Texto del segmento 2:\n",
            "su ventaja con vías neurales más rápidas y eficientes hay muchas teorías que intentan cuantificar el número de horas días e incluso años de práctica que se necesitan para dominar una habilidad a pesar de que todavía no tenemos un número mágico sabemos que el dominio no se trata solo de la cantidad de horas de práctica es también la calidad y eficacia de esta práctica la práctica efectiva es consistente intensamente centrada y va a metas contenidas o debilidades que se sitúan en el borde de las habilidades actuales de uno si la práctica efectiva es la clave Cómo podemos obtener el máximo provecho de nuestro tiempo de práctica prueba estos consejos centrarte en la tarea en cuestión minimiza las distracciones potenciales apagando la computadora o la televisión y pon tu teléfono celular en modo avión en un estudio Los investigadores observaron 260 alumnos estudiando de media los estudiantes solo fueron capaces de permanecer en la tarea por 6 minutos seguidos\n",
            "Texto del segmento 3:\n",
            "computadoras portátiles teléfonos y en particular Facebook fueron la raíz de la mayoría de las distracciones se comienza lentamente o en cámara lenta la coordinación se construye con repeticiones ya sean correctas O incorrectas sí aumentas gradualmente la velocidad de repeticiones de calidad tendrás una mejor oportunidad de hacerlo correctamente luego repeticiones frecuentes con muchos descansos son hábitos comunes de práctica de los atletas de élite los estudios han mostrado que muchos de los mejores atletas músicos y bailarines pasan 50 a 60 horas por semana en las actividades relacionadas con su oficio muchos dividen su tiempo de práctica efectiva en múltiples sesiones de prácticas diarias de duración limitada Y por último practica en tu cerebro con gran detalle es un poco sorprendente pero una serie de estudios sugieren que una vez que se ha logrado un movimiento físico que puede ser reforzado con solo imaginarlo en un estudio 144 jugadores de baloncesto se dividieron en dos grupos\n",
            "Texto del segmento 4:\n",
            "un grupo a práctico físicamente tiros libres con una sola mano Mientras que el grupo B solo los práctico mentalmente cuando se midieron al final de 2 semanas de experimento los jugadores intermedios y experimentados en los dos grupos habían mejorado en casi la misma cantidad a medida que los científicos desentrañan los secretos de nuestro cerebro nuestra comprensión de la práctica efectiva solo mejorará Mientras tanto la práctica efectiva es la mejor manera que tenemos de empujar nuestros límites individuales lograr nuevas alturas y maximizar nuestro potencial Gracias por mirar te Dead en español si te gustó este video Haz click en suscribirse Para no perderte ninguno\n",
            "Texto completo extraído del audio: \n",
            "dominar cualquier habilidad física ya sea realizar una pirueta tocar un instrumento o lanzar una pelota de béisbol requiere práctica la práctica es la repetición de una acción con el objetivo de mejora y ayuda a ejecutar con mayor facilidad rapidez y confianza Qué hace la práctica en nuestro cerebro para hacernos mejores en las cosas nuestro cerebro tiene dos tipos de tejido neural materia gris y materia Blanca la materia gris procesa la información en el cerebro dirige las señales y estímulos sensoriales a las células nerviosas mientras que la materia Blanca se compone sobre todo de fibras nerviosas y tejido graso para que nuestros cuerpos se muevan la información tiene que viajar de la materia Gris del cerebro hacia abajo por la médula a través de una cadena de fibras nerviosas llamadas axones a los músculos cómo afectan la práctica o la el funcionamiento interno de nuestro cerebro los axones que existen en la sustancia Blanca se envuelven con una sustancia grasa llamada mielina y es está cubierta de mielina o vaina la que parece cambiar con la práctica la mielina es similar al aislamiento de los cables eléctricos evita la pérdida de energía de las señales eléctricas que utiliza el cerebro moviéndolas de manera más eficiente a lo largo de las vías nerviosas estudios recientes en ratones sugieren que la repetición de un movimiento físico aumenta las capas de la vaina de mielina que aísla los axones y ambas capas mayores el aislamiento alrededor de las cadenas de los axones formando una especie de autopista para la información que conecta el cerebro a los músculos mientras que muchos atletas y artistas atribuyen sus éxitos a la memoria muscular los músculos mismos en realidad no tienen memoria más bien puede ser la mielinización de las vías neurales la que da a estos atletas y artistas su ventaja con vías neurales más rápidas y eficientes hay muchas teorías que intentan cuantificar el número de horas días e incluso años de práctica que se necesitan para dominar una habilidad a pesar de que todavía no tenemos un número mágico sabemos que el dominio no se trata solo de la cantidad de horas de práctica es también la calidad y eficacia de esta práctica la práctica efectiva es consistente intensamente centrada y va a metas contenidas o debilidades que se sitúan en el borde de las habilidades actuales de uno si la práctica efectiva es la clave Cómo podemos obtener el máximo provecho de nuestro tiempo de práctica prueba estos consejos centrarte en la tarea en cuestión minimiza las distracciones potenciales apagando la computadora o la televisión y pon tu teléfono celular en modo avión en un estudio Los investigadores observaron 260 alumnos estudiando de media los estudiantes solo fueron capaces de permanecer en la tarea por 6 minutos seguidos computadoras portátiles teléfonos y en particular Facebook fueron la raíz de la mayoría de las distracciones se comienza lentamente o en cámara lenta la coordinación se construye con repeticiones ya sean correctas O incorrectas sí aumentas gradualmente la velocidad de repeticiones de calidad tendrás una mejor oportunidad de hacerlo correctamente luego repeticiones frecuentes con muchos descansos son hábitos comunes de práctica de los atletas de élite los estudios han mostrado que muchos de los mejores atletas músicos y bailarines pasan 50 a 60 horas por semana en las actividades relacionadas con su oficio muchos dividen su tiempo de práctica efectiva en múltiples sesiones de prácticas diarias de duración limitada Y por último practica en tu cerebro con gran detalle es un poco sorprendente pero una serie de estudios sugieren que una vez que se ha logrado un movimiento físico que puede ser reforzado con solo imaginarlo en un estudio 144 jugadores de baloncesto se dividieron en dos grupos un grupo a práctico físicamente tiros libres con una sola mano Mientras que el grupo B solo los práctico mentalmente cuando se midieron al final de 2 semanas de experimento los jugadores intermedios y experimentados en los dos grupos habían mejorado en casi la misma cantidad a medida que los científicos desentrañan los secretos de nuestro cerebro nuestra comprensión de la práctica efectiva solo mejorará Mientras tanto la práctica efectiva es la mejor manera que tenemos de empujar nuestros límites individuales lograr nuevas alturas y maximizar nuestro potencial Gracias por mirar te Dead en español si te gustó este video Haz click en suscribirse Para no perderte ninguno \n"
          ]
        }
      ],
      "source": [
        "import speech_recognition as sr\n",
        "from pydub import AudioSegment\n",
        "\n",
        "audio_path = \"/content/audio.wav\"\n",
        "\n",
        "# Función para dividir el audio en partes más pequeñas\n",
        "def dividir_audio_en_segmentos(audio_path, duracion_segmento_ms=60000):\n",
        "    audio = AudioSegment.from_wav(audio_path)\n",
        "    segmentos = [audio[i:i+duracion_segmento_ms] for i in range(0, len(audio), duracion_segmento_ms)]\n",
        "    return segmentos\n",
        "\n",
        "# Función para convertir un segmento de audio en texto\n",
        "def audio_a_texto_por_segmentos(audio_segment, recognizer, contador):\n",
        "    audio_path_segmento = f\"segmento_{contador}.wav\"\n",
        "    audio_segment.export(audio_path_segmento, format=\"wav\")\n",
        "    with sr.AudioFile(audio_path_segmento) as source:\n",
        "        audio_data = recognizer.record(source)\n",
        "        try:\n",
        "            texto = recognizer.recognize_google(audio_data, language=\"es-ES\")\n",
        "            print(f\"Texto del segmento {contador}:\")\n",
        "            print(texto)\n",
        "            return texto\n",
        "        except sr.UnknownValueError:\n",
        "            print(f\"No se pudo entender el audio del segmento {contador}\")\n",
        "        except sr.RequestError as e:\n",
        "            print(f\"No se puede conectar al servicio de Google en el segmento {contador}: {e}\")\n",
        "    return \"\"\n",
        "\n",
        "# Convertir todo el audio a texto, dividiendo en segmentos más pequeños\n",
        "def convertir_audio_completo_a_texto(audio_path):\n",
        "    recognizer = sr.Recognizer()\n",
        "    segmentos = dividir_audio_en_segmentos(audio_path)\n",
        "    texto_completo = \"\"\n",
        "    for i, segmento in enumerate(segmentos):\n",
        "        texto_segmento = audio_a_texto_por_segmentos(segmento, recognizer, i)\n",
        "        texto_completo += texto_segmento + \" \"\n",
        "\n",
        "    # Guardar el texto completo en un archivo\n",
        "    with open(\"texto_extraido_audio.txt\", \"w\", encoding=\"utf-8\") as f:\n",
        "        f.write(texto_completo)\n",
        "\n",
        "    return texto_completo\n",
        "\n",
        "# Ejecutar\n",
        "texto_extraido = convertir_audio_completo_a_texto(audio_path)\n",
        "print(\"Texto completo extraído del audio: \")\n",
        "print(texto_extraido)\n"
      ]
    }
  ],
  "metadata": {
    "colab": {
      "provenance": []
    },
    "kernelspec": {
      "display_name": "Python 3",
      "name": "python3"
    },
    "language_info": {
      "name": "python"
    }
  },
  "nbformat": 4,
  "nbformat_minor": 0
}